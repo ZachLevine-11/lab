{
 "cells": [
  {
   "cell_type": "code",
   "execution_count": 2,
   "metadata": {
    "pycharm": {
     "is_executing": true
    }
   },
   "outputs": [],
   "source": [
    "import numpy as np\n",
    "import sys\n",
    "import pandas as pd\n",
    "from LabData.DataLoaders.PRSLoader import PRSLoader\n",
    "from LabData.DataLoaders.UltrasoundLoader import UltrasoundLoader\n",
    "from LabData.DataLoaders.ABILoader import ABILoader\n",
    "from scores_work import stack_matrices_and_bonferonni_correct, report_pheno\n",
    "stackmat = stack_matrices_and_bonferonni_correct(fillwithNA = True)\n",
    "abi = ABILoader().get_data().df_columns_metadata\n",
    "us = UltrasoundLoader().get_data().df_columns_metadata"
   ]
  },
  {
   "cell_type": "code",
   "execution_count": 3,
   "metadata": {
    "pycharm": {
     "is_executing": true
    }
   },
   "outputs": [],
   "source": [
    "file_path = \"/net/mraid20/export/jasmine/zach/prs_associations/report.txt\"\n",
    "descriptionmap  = PRSLoader().get_data().df_columns_metadata.h2_description.to_dict()"
   ]
  },
  {
   "cell_type": "code",
   "execution_count": 5,
   "metadata": {
    "pycharm": {
     "is_executing": true
    }
   },
   "outputs": [],
   "source": [
    "##Top phenos excluding DEXA\n",
    "##first clear the old report\n",
    "#!rm /net/mraid20/export/jasmine/zach/prs_associations/report.txt\n",
    "sys.stdout = open(file_path, \"w\")\n",
    "for pheno in stackmat.loc[stackmat.index.get_level_values(1) != \"DEXALoader\",:].index.get_level_values(0):\n",
    "    report_pheno(pheno, descriptionmap, stackmat)"
   ]
  },
  {
   "cell_type": "code",
   "execution_count": null,
   "metadata": {
    "pycharm": {
     "is_executing": true
    }
   },
   "outputs": [],
   "source": [
    "from seaborn import clustermap\n",
    "from matplotlib import pyplot as plt\n",
    "clustermap(stackmat)\n",
    "plt.show()"
   ]
  },
  {
   "cell_type": "code",
   "execution_count": null,
   "metadata": {
    "pycharm": {
     "is_executing": true
    }
   },
   "outputs": [],
   "source": []
  }
 ],
 "metadata": {
  "kernelspec": {
   "display_name": "Python 3",
   "language": "python",
   "name": "python3"
  },
  "language_info": {
   "codemirror_mode": {
    "name": "ipython",
    "version": 3
   },
   "file_extension": ".py",
   "mimetype": "text/x-python",
   "name": "python",
   "nbconvert_exporter": "python",
   "pygments_lexer": "ipython3",
   "version": "3.7.4"
  }
 },
 "nbformat": 4,
 "nbformat_minor": 4
}
