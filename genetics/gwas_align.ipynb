{
 "cells": [
  {
   "cell_type": "code",
   "execution_count": 2,
   "metadata": {
    "pycharm": {
     "name": "#%%\n"
    }
   },
   "outputs": [],
   "source": [
    "from run_gwas import read_loader_in, order_cols, run_plink1\n",
    "import numpy as np\n",
    "import pandas as pd\n",
    "from pandas_plink import read_plink1_bin, write_plink1_bin\n",
    "import os\n",
    "import ast\n",
    "from os.path import isfile, join\n",
    "import re\n",
    "import string\n",
    "import random\n",
    "from LabQueue.qp import qp\n",
    "from LabData.DataLoaders.CGMLoader import CGMLoader\n",
    "from GeneticsPipeline.helpers_genetic import read_status_table, run_plink2, required_memory_gb\n",
    "from LabUtils.Scripts.shell_commands_execute import ShellCommandsExecute\n",
    "from LabUtils.addloglevels import sethandlers\n",
    "from GeneticsPipeline.config import plink19_bin, plink2_bin, qp_running_dir\n",
    "from pandas_plink import write_plink1_bin\n",
    "import matplotlib.pyplot as plt"
   ]
  },
  {
   "cell_type": "code",
   "execution_count": 3,
   "metadata": {},
   "outputs": [
    {
     "data": {
      "text/plain": [
       "(None, None)"
      ]
     },
     "execution_count": 3,
     "metadata": {},
     "output_type": "execute_result"
    }
   ],
   "source": [
    "##Only run once\n",
    "sethandlers()"
   ]
  },
  {
   "cell_type": "code",
   "execution_count": 6,
   "metadata": {},
   "outputs": [],
   "source": []
  },
  {
   "cell_type": "code",
   "execution_count": 10,
   "metadata": {},
   "outputs": [],
   "source": [
    "##EA1c with outliers removed\n",
    "batchedphenos = pd.read_csv(\"/net/mraid20/export/jasmine/zach/height_gwas/all_gwas/phenos_batched/batch0.txt\", sep = \"\\t\")\n",
    "justeA1C = batchedphenos.loc[:,[\"IID\", \"ea1c\"]]\n",
    "justeA1C.to_csv(batched_pheno_dir + \"ea1c\" + \".txt\", sep=\"\\t\", index=False, header=True, na_rep = \"NA\")"
   ]
  },
  {
   "cell_type": "code",
   "execution_count": 7,
   "metadata": {},
   "outputs": [],
   "source": [
    "##Raw Ea1c with outliers in place\n",
    "batched_pheno_dir = \"/net/mraid20/export/jasmine/zach/height_gwas/all_gwas/phenos_batched/\"\n",
    "status_table = read_status_table()\n",
    "status_table = status_table[status_table.passed_qc].copy()\n",
    "df = pd.read_csv(\"/net/mraid20/export/genie/LabData/Analyses/ayyak/CGM/iglu/iglu_no_tails.csv\").set_index(\"id\").drop(\"Unnamed: 0\", axis=1)\n",
    "##throw away second part of index\n",
    "df.index = list(map(lambda longName: longName.split(\"/\")[0], df.index.values))\n",
    "df.index.name = \"RegistrationCode\"\n",
    "#df = df.loc[~df.index.duplicated(keep = \"first\"),:] #also try mean\n",
    "df = df.groupby(\"RegistrationCode\").mean()\n",
    "df = df.loc[:, [\"ea1c\"]]\n",
    "temp_index = df.reset_index().RegistrationCode.apply(status_table.set_index('RegistrationCode').gencove_id.to_dict().get)\n",
    "temp_index.name = \"IID\"\n",
    "df = df.set_index(temp_index)\n",
    "df = order_cols(df, keep_fid = False)\n",
    "df.to_csv(batched_pheno_dir + \"ea1c_raw\" + \".txt\", sep=\"\\t\", index=False, header=True, na_rep = \"NA\")"
   ]
  },
  {
   "cell_type": "code",
   "execution_count": 8,
   "metadata": {},
   "outputs": [],
   "source": [
    "bfile_loc = \"/net/mraid20/export/genie/10K/genetics/Gencove/allsamples\"\n",
    "batched_pheno_dir = \"/net/mraid20/export/jasmine/zach/height_gwas/all_gwas/phenos_batched/\"\n",
    "outfile_loc = \"/net/mraid20/export/jasmine/zach/height_gwas/all_gwas/gwas_results/eac_noqc_with_outliers\"\n",
    "cmd = plink2_bin +' --bfile '+ bfile_loc + ' --pheno /net/mraid20/export/jasmine/zach/height_gwas/all_gwas/phenos_batched/ea1c_raw' + '.txt' + ' --linear hide-covar --out ' + outfile_loc"
   ]
  },
  {
   "cell_type": "code",
   "execution_count": 9,
   "metadata": {},
   "outputs": [
    {
     "name": "stdout",
     "output_type": "stream",
     "text": [
      "2022-17-10 14:56:48 INFO qp.py:1118 Sending to queue (mem 41G, threads 32): (gwas.._C8k) /usr/wisdom/python-3.7.4/bin/python3.7 -W ignore /home/zacharyl/Desktop/LabQueue/LabQueue/qworker.py /net/mraid20/export/genie/10K/genetics/Logs/gwas.._c4e56c46c66a46e2a0808dd644490fc1/0.dat;\n",
      "2022-17-10 14:56:58 INFO qp.py:1034 Job: gwas.._C8k running on genie46\n",
      "2022-17-10 15:15:27 INFO CommandStatus.py:96 \n",
      "\t/usr/wisdom/python-3.7.4/bin/python3.7 -W ignore /home/zacharyl/Desktop/LabQueue/LabQueue/qworker.py /net/mraid20/export/genie/10K/genetics/Logs/gwas.._c4e56c46c66a46e2a0808dd644490fc1/0.dat;\n",
      "\tRunning gwas\n"
     ]
    }
   ],
   "source": [
    "##make sure you only ask for memory based on the qc'd genetics data\n",
    "run_plink2(cmd, \"gwas\", required_memory_gb(\"/net/mraid20/export/genie/10K/genetics/Gencove/allsamples_qc.bed\"), threads = 32)"
   ]
  },
  {
   "cell_type": "code",
   "execution_count": null,
   "metadata": {},
   "outputs": [],
   "source": []
  },
  {
   "cell_type": "code",
   "execution_count": 10,
   "metadata": {},
   "outputs": [
    {
     "data": {
      "text/plain": [
       "9472"
      ]
     },
     "execution_count": 10,
     "metadata": {},
     "output_type": "execute_result"
    }
   ],
   "source": [
    "res = pd.read_csv(\"/net/mraid20/export/jasmine/zach/height_gwas/all_gwas/gwas_results/eac_noqc_with_outliers.ea1c.glm.linear\", sep = \"\\t\")\n",
    "res_sig = res.loc[res.P < (5*10**(-8)),:]\n",
    "len(res_sig)"
   ]
  },
  {
   "cell_type": "code",
   "execution_count": 11,
   "metadata": {},
   "outputs": [],
   "source": [
    "their_res = pd.read_csv(\"~/Desktop/pheno_cgm_assoc.csv\")\n",
    "their_res_eac = their_res.loc[their_res.phenotype == \"eA1C\",:]\n",
    "their_res_eac_sig = their_res_eac[their_res_eac.P < (5*10**(-8))]"
   ]
  },
  {
   "cell_type": "code",
   "execution_count": 12,
   "metadata": {},
   "outputs": [],
   "source": [
    "merged_all = pd.merge(left = res, left_on = \"ID\", right = their_res_eac, right_on = \"SNP\", how = \"inner\")\n",
    "\n",
    "merged_sig = pd.merge(left = res_sig, left_on = \"ID\", right = their_res_eac_sig, right_on = \"SNP\", how = \"inner\")"
   ]
  },
  {
   "cell_type": "code",
   "execution_count": 16,
   "metadata": {},
   "outputs": [
    {
     "data": {
      "text/plain": [
       "0.34615384615384615"
      ]
     },
     "execution_count": 16,
     "metadata": {},
     "output_type": "execute_result"
    }
   ],
   "source": [
    "#len(merged_sig)\n",
    "#len(merged_all)\n",
    "len(merged_sig)/len(their_res_eac_sig)\n",
    "#len(merged_all)/len(their_res_eac)"
   ]
  },
  {
   "cell_type": "code",
   "execution_count": 18,
   "metadata": {},
   "outputs": [
    {
     "data": {
      "text/plain": [
       "Index(['#CHROM', 'POS', 'ID', 'REF', 'ALT', 'A1', 'TEST', 'OBS_CT', 'BETA',\n",
       "       'SE', 'T_STAT', 'P_x', 'SNP', 'P_y', 'phenotype', 'chrom', 'pos'],\n",
       "      dtype='object')"
      ]
     },
     "execution_count": 18,
     "metadata": {},
     "output_type": "execute_result"
    }
   ],
   "source": [
    "merged.columns"
   ]
  },
  {
   "cell_type": "code",
   "execution_count": 19,
   "metadata": {},
   "outputs": [
    {
     "data": {
      "text/html": [
       "<div>\n",
       "<style scoped>\n",
       "    .dataframe tbody tr th:only-of-type {\n",
       "        vertical-align: middle;\n",
       "    }\n",
       "\n",
       "    .dataframe tbody tr th {\n",
       "        vertical-align: top;\n",
       "    }\n",
       "\n",
       "    .dataframe thead th {\n",
       "        text-align: right;\n",
       "    }\n",
       "</style>\n",
       "<table border=\"1\" class=\"dataframe\">\n",
       "  <thead>\n",
       "    <tr style=\"text-align: right;\">\n",
       "      <th></th>\n",
       "      <th>#CHROM</th>\n",
       "      <th>POS</th>\n",
       "      <th>ID</th>\n",
       "      <th>REF</th>\n",
       "      <th>ALT</th>\n",
       "      <th>A1</th>\n",
       "      <th>TEST</th>\n",
       "      <th>OBS_CT</th>\n",
       "      <th>BETA</th>\n",
       "      <th>SE</th>\n",
       "      <th>T_STAT</th>\n",
       "      <th>P_x</th>\n",
       "      <th>SNP</th>\n",
       "      <th>P_y</th>\n",
       "      <th>phenotype</th>\n",
       "      <th>chrom</th>\n",
       "      <th>pos</th>\n",
       "    </tr>\n",
       "  </thead>\n",
       "  <tbody>\n",
       "    <tr>\n",
       "      <th>0</th>\n",
       "      <td>1</td>\n",
       "      <td>2347465</td>\n",
       "      <td>rs77529941</td>\n",
       "      <td>T</td>\n",
       "      <td>C</td>\n",
       "      <td>C</td>\n",
       "      <td>ADD</td>\n",
       "      <td>7327</td>\n",
       "      <td>-0.073967</td>\n",
       "      <td>0.025988</td>\n",
       "      <td>-2.84618</td>\n",
       "      <td>0.004437</td>\n",
       "      <td>rs77529941</td>\n",
       "      <td>0.000085</td>\n",
       "      <td>eA1C</td>\n",
       "      <td>1</td>\n",
       "      <td>2347465</td>\n",
       "    </tr>\n",
       "    <tr>\n",
       "      <th>1</th>\n",
       "      <td>1</td>\n",
       "      <td>4594998</td>\n",
       "      <td>rs34231005</td>\n",
       "      <td>T</td>\n",
       "      <td>G</td>\n",
       "      <td>G</td>\n",
       "      <td>ADD</td>\n",
       "      <td>7327</td>\n",
       "      <td>-0.016053</td>\n",
       "      <td>0.007601</td>\n",
       "      <td>-2.11180</td>\n",
       "      <td>0.034738</td>\n",
       "      <td>rs34231005</td>\n",
       "      <td>0.000090</td>\n",
       "      <td>eA1C</td>\n",
       "      <td>1</td>\n",
       "      <td>4594998</td>\n",
       "    </tr>\n",
       "    <tr>\n",
       "      <th>2</th>\n",
       "      <td>1</td>\n",
       "      <td>13835765</td>\n",
       "      <td>rs11576472</td>\n",
       "      <td>C</td>\n",
       "      <td>T</td>\n",
       "      <td>T</td>\n",
       "      <td>ADD</td>\n",
       "      <td>7327</td>\n",
       "      <td>-0.037098</td>\n",
       "      <td>0.014039</td>\n",
       "      <td>-2.64240</td>\n",
       "      <td>0.008250</td>\n",
       "      <td>rs11576472</td>\n",
       "      <td>0.000070</td>\n",
       "      <td>eA1C</td>\n",
       "      <td>1</td>\n",
       "      <td>13835765</td>\n",
       "    </tr>\n",
       "    <tr>\n",
       "      <th>3</th>\n",
       "      <td>1</td>\n",
       "      <td>14630083</td>\n",
       "      <td>rs75045455</td>\n",
       "      <td>C</td>\n",
       "      <td>T</td>\n",
       "      <td>T</td>\n",
       "      <td>ADD</td>\n",
       "      <td>7327</td>\n",
       "      <td>-0.040610</td>\n",
       "      <td>0.022009</td>\n",
       "      <td>-1.84514</td>\n",
       "      <td>0.065057</td>\n",
       "      <td>rs75045455</td>\n",
       "      <td>0.000056</td>\n",
       "      <td>eA1C</td>\n",
       "      <td>1</td>\n",
       "      <td>14630083</td>\n",
       "    </tr>\n",
       "    <tr>\n",
       "      <th>4</th>\n",
       "      <td>1</td>\n",
       "      <td>14707476</td>\n",
       "      <td>rs820666</td>\n",
       "      <td>G</td>\n",
       "      <td>A</td>\n",
       "      <td>A</td>\n",
       "      <td>ADD</td>\n",
       "      <td>7327</td>\n",
       "      <td>0.035940</td>\n",
       "      <td>0.016378</td>\n",
       "      <td>2.19437</td>\n",
       "      <td>0.028241</td>\n",
       "      <td>rs820666</td>\n",
       "      <td>0.000078</td>\n",
       "      <td>eA1C</td>\n",
       "      <td>1</td>\n",
       "      <td>14707476</td>\n",
       "    </tr>\n",
       "  </tbody>\n",
       "</table>\n",
       "</div>"
      ],
      "text/plain": [
       "   #CHROM       POS          ID REF ALT A1 TEST  OBS_CT      BETA        SE  \\\n",
       "0       1   2347465  rs77529941   T   C  C  ADD    7327 -0.073967  0.025988   \n",
       "1       1   4594998  rs34231005   T   G  G  ADD    7327 -0.016053  0.007601   \n",
       "2       1  13835765  rs11576472   C   T  T  ADD    7327 -0.037098  0.014039   \n",
       "3       1  14630083  rs75045455   C   T  T  ADD    7327 -0.040610  0.022009   \n",
       "4       1  14707476    rs820666   G   A  A  ADD    7327  0.035940  0.016378   \n",
       "\n",
       "    T_STAT       P_x         SNP       P_y phenotype  chrom       pos  \n",
       "0 -2.84618  0.004437  rs77529941  0.000085      eA1C      1   2347465  \n",
       "1 -2.11180  0.034738  rs34231005  0.000090      eA1C      1   4594998  \n",
       "2 -2.64240  0.008250  rs11576472  0.000070      eA1C      1  13835765  \n",
       "3 -1.84514  0.065057  rs75045455  0.000056      eA1C      1  14630083  \n",
       "4  2.19437  0.028241    rs820666  0.000078      eA1C      1  14707476  "
      ]
     },
     "execution_count": 19,
     "metadata": {},
     "output_type": "execute_result"
    }
   ],
   "source": [
    "merged.head()"
   ]
  },
  {
   "cell_type": "code",
   "execution_count": null,
   "metadata": {},
   "outputs": [],
   "source": []
  }
 ],
 "metadata": {
  "kernelspec": {
   "display_name": "Python 3",
   "language": "python",
   "name": "python3"
  },
  "language_info": {
   "codemirror_mode": {
    "name": "ipython",
    "version": 3
   },
   "file_extension": ".py",
   "mimetype": "text/x-python",
   "name": "python",
   "nbconvert_exporter": "python",
   "pygments_lexer": "ipython3",
   "version": "3.7.4"
  }
 },
 "nbformat": 4,
 "nbformat_minor": 1
}
