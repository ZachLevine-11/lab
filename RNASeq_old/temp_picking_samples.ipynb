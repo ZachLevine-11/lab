{
 "cells": [
  {
   "cell_type": "code",
   "execution_count": 64,
   "id": "871fc513-5c36-4837-8485-066fc79a538e",
   "metadata": {},
   "outputs": [],
   "source": [
    "import pandas as pd\n",
    "import matplotlib.pyplot as plt"
   ]
  },
  {
   "cell_type": "code",
   "execution_count": 65,
   "id": "e35f7486-2123-41d2-ad6f-f9036263a4e3",
   "metadata": {},
   "outputs": [
    {
     "name": "stderr",
     "output_type": "stream",
     "text": [
      "/tmp/ipykernel_42192/2031683948.py:9: DtypeWarning: Columns (12,23,24,27,28,33,36,39,41,42,43,45,47,48,54) have mixed types. Specify dtype option on import or set low_memory=False.\n",
      "  df_all = pd.read_csv(fname_all_samples)\n"
     ]
    }
   ],
   "source": [
    "import numpy as np\n",
    "import pandas as pd\n",
    "from datetime import datetime, date\n",
    "\n",
    "is_healthy = pd.read_csv(\"/data/segal_lab/home/zacharyl/is_healthy.csv\")\n",
    "is_healthy = list(is_healthy.loc[is_healthy.is_healthy,\"RegistrationCode\"])\n",
    "##add age to the pbmc sample list\n",
    "fname_all_samples = \"/data/segal_lab/home/zacharyl/samples.csv\"\n",
    "df_all = pd.read_csv(fname_all_samples)"
   ]
  },
  {
   "cell_type": "code",
   "execution_count": 66,
   "id": "f9b2a042-5007-42fe-85b0-598547f9b676",
   "metadata": {},
   "outputs": [],
   "source": [
    "df_all[\"RegistrationCode\"] = list(map(lambda x: \"10K_\" + str(x), df_all[\"participant_id\"]))\n",
    "df_all = df_all.loc[df_all.StudyTypeID_lc == 10,:]\n",
    "df_all = df_all.loc[df_all.project_code == \"P10K\",:]\n",
    "df_all = df_all.loc[df_all.sample_type == 8,:]\n",
    "df_all = df_all.dropna(subset = list(filter(lambda x: \"pbmc\" in x, df_all.columns)))"
   ]
  },
  {
   "cell_type": "code",
   "execution_count": 77,
   "id": "13894a5e-0e5e-4dd7-a3d1-4c7cbb7e3e49",
   "metadata": {},
   "outputs": [],
   "source": [
    "df_all = df_all.drop_duplicates(subset = \"participant_id\", keep = \"last\")\n",
    "subjects_all = pd.read_csv(\"/data/segal_lab/home/zacharyl/subjects_10k.csv\").merge(how = \"inner\",right = df_all, on = \"RegistrationCode\").drop([\"date_updated\", \"date_created\"], axis = 1)\n",
    "subjects_all[\"DOB\"] = 15\n",
    "\n",
    "def calculate_age(born):\n",
    "    today = datetime.strptime(str(born[\"date_created\"]).split(\" \")[0], \"%Y-%m-%d\")\n",
    "    return today.year - born[\"yob\"] - ((today.month, today.day) < (born[\"month_of_birth\"], born[\"DOB\"]))\n",
    "merged = subjects_all.merge(df_all, how = \"inner\", left_on = \"RegistrationCode\", right_on = \"RegistrationCode\")\n",
    "\n",
    "merged = merged.dropna(subset = [\"yob\", \"month_of_birth\", \"DOB\", \"date_updated\"])\n",
    "merged[\"age\"] = merged.apply(calculate_age, axis = 1)\n",
    "medications_df = pd.read_csv(\"/data/segal_lab/home/zacharyl/medications.csv\")\n",
    "exclusion_english = [\"Tamoxifen\", \"Prednisone\", \"Maxibone\", \"Eltroxin\", \"Euthyrox\"]\n",
    "exclusion_matched =  []\n",
    "for eng in exclusion_english:\n",
    "    for heb in medications_df.medication.unique():\n",
    "        if eng in heb:\n",
    "            exclusion_matched.append(heb)\n",
    "exclusion_matched = exclusion_matched[0:5]\n",
    "exclude_based_on_medications = medications_df.iloc[list(map(lambda x: x in exclusion_matched, medications_df[\"medication\"])),:].loc[:,\"RegistrationCode\"].unique()"
   ]
  },
  {
   "cell_type": "code",
   "execution_count": 68,
   "id": "6d6136a5-6049-4eb8-a930-b287d343b59e",
   "metadata": {},
   "outputs": [],
   "source": [
    "pbmc_healthy = merged.loc[list(map(lambda x: x in is_healthy, merged.RegistrationCode)),:]\n",
    "pbmc_healthy = pbmc_healthy.loc[list(map(lambda x: x not in exclude_based_on_medications, pbmc_healthy.RegistrationCode)),:]\n",
    "pbmc_healthy = pbmc_healthy.loc[pbmc_healthy.age > 0, :]##exclude outliers and people with invalid  age\n",
    "##keep only women\n",
    "pbmc_healthy = pbmc_healthy.loc[pbmc_healthy.gender < 1, :].drop_duplicates(subset = [\"RegistrationCode\"], keep = \"first\") ##based on the metadata, 0: women, 1:men"
   ]
  },
  {
   "cell_type": "code",
   "execution_count": 69,
   "id": "3dd72153-1c0c-4988-bbc1-eba088810826",
   "metadata": {},
   "outputs": [
    {
     "data": {
      "image/png": "[encoded data removed]",
      "text/plain": [
       "<Figure size 640x480 with 1 Axes>"
      ]
     },
     "metadata": {},
     "output_type": "display_data"
    }
   ],
   "source": [
    "age_range = pbmc_healthy.age.max()- pbmc_healthy.age.min()\n",
    "bin_width = 2\n",
    "age_bins = list(zip(list(range(int(pbmc_healthy.age.min()), int(pbmc_healthy.age.max()), bin_width + 1)), list(range(int(pbmc_healthy.age.min()) + bin_width, int(pbmc_healthy.age.max()), bin_width + 1))))\n",
    "##if we didn't hit the end of the age range, include a manual last bin\n",
    "if age_bins[-1][1] < pbmc_healthy.age.max():\n",
    "    age_bins.append((age_bins[-1][1] + 1, int(pbmc_healthy.age.max())))\n",
    "\n",
    "##pick all people at the tails of the age distribution\n",
    "upper_bound_all_samples = 39\n",
    "lower_bound_all_samples = 70\n",
    "number_per_bin = 10\n",
    "##for each middle bin interval, randomly pick the set number of people in that age bin\n",
    "samples = list(map(lambda bin_interval: np.random.choice(pbmc_healthy.loc[list(map(lambda age: bin_interval[0] <= age <= bin_interval[1], pbmc_healthy.age)), :].RegistrationCode, size = min(number_per_bin, len(pbmc_healthy.loc[list(map(lambda age: bin_interval[0] <= age <= bin_interval[1], pbmc_healthy.age)), :].RegistrationCode)), replace = False) if len(set(list(range(bin_interval[0], bin_interval[1] + 1, 1))).intersection(set(pbmc_healthy.age))) > 0 else None, list(filter(lambda x: x[0] > upper_bound_all_samples and x[1] < lower_bound_all_samples, age_bins))))\n",
    "##drop the None entries (indicating no person has that age bin) from the list\n",
    "samples = list(filter(lambda x: x is not None, samples))\n",
    "##unpack the sampled tuples for each age bin\n",
    "samples = list(set([y for x in samples for y in x]))\n",
    "##include all young people\n",
    "samples += list(pbmc_healthy.loc[pbmc_healthy.age <= upper_bound_all_samples, \"RegistrationCode\"].unique())\n",
    "##include all old people\n",
    "samples += list(pbmc_healthy.loc[pbmc_healthy.age >= lower_bound_all_samples, \"RegistrationCode\"].unique())\n",
    "\n",
    "##Add required metadata for each sample that we are picking\n",
    "samples_full = pd.DataFrame({\"RegistrationCode\": samples})\n",
    "##use earlier samples for people with multiple samples, because we want a healthier cohort\n",
    "samples_full = samples_full.merge(pbmc_healthy, on = \"RegistrationCode\", how = \"inner\")\n",
    "\n",
    "##Make table with ages'\n",
    "table = pd.DataFrame(age_bins)\n",
    "table.columns = [\"Lower_bound\", \"Upper_bound\"]\n",
    "number_per_bin = list(map(lambda bin_interval: len(pbmc_healthy.loc[list(map(lambda age: bin_interval[0] <= age <= bin_interval[1], pbmc_healthy.age)), :].RegistrationCode.unique()), age_bins))\n",
    "table[\"number_per_bin\"] = number_per_bin\n",
    "\n",
    "##make a histogram of the age distribution of the selected people\n",
    "plt.hist(samples_full[\"age\"], list(range(int(pbmc_healthy.age.min()), int(pbmc_healthy.age.max()), 2)))\n",
    "plt.show()"
   ]
  },
  {
   "cell_type": "code",
   "execution_count": 70,
   "id": "b1a5bccb-6927-4e59-a68b-e2686fc0c560",
   "metadata": {},
   "outputs": [
    {
     "data": {
      "text/plain": [
       "117"
      ]
     },
     "execution_count": 70,
     "metadata": {},
     "output_type": "execute_result"
    }
   ],
   "source": [
    "len(samples_full)"
   ]
  },
  {
   "cell_type": "code",
   "execution_count": 71,
   "id": "20c20087-1fe1-4782-ab43-65972463550b",
   "metadata": {},
   "outputs": [
    {
     "data": {
      "text/plain": [
       "set()"
      ]
     },
     "execution_count": 71,
     "metadata": {},
     "output_type": "execute_result"
    }
   ],
   "source": [
    "set(medications_df.merge(samples_full, left_on = \"RegistrationCode\", right_on = \"RegistrationCode\", how = \"inner\").medication).intersection(set(exclusion_matched))"
   ]
  },
  {
   "cell_type": "code",
   "execution_count": 20,
   "id": "a79d6ea9-4b88-4e87-8b72-738dcb7bb7bd",
   "metadata": {},
   "outputs": [
    {
     "data": {
      "text/plain": [
       "['טמוקסיפן / Tamoxifen',\n",
       " 'פרדניזון / Prednisone',\n",
       " 'מקסיבון / Maxibone',\n",
       " 'אלטרוקסין / Eltroxin',\n",
       " 'אלטרוקסין LF / Eltroxin-LF']"
      ]
     },
     "execution_count": 20,
     "metadata": {},
     "output_type": "execute_result"
    }
   ],
   "source": [
    "exclusion_matched"
   ]
  },
  {
   "cell_type": "code",
   "execution_count": 21,
   "id": "6dc5acb4-cfe1-42e9-baf8-64179133006e",
   "metadata": {},
   "outputs": [
    {
     "data": {
      "text/plain": [
       "[(24, 26),\n",
       " (27, 29),\n",
       " (30, 32),\n",
       " (33, 35),\n",
       " (36, 38),\n",
       " (39, 41),\n",
       " (42, 44),\n",
       " (45, 47),\n",
       " (48, 50),\n",
       " (51, 53),\n",
       " (54, 56),\n",
       " (57, 59),\n",
       " (60, 62),\n",
       " (63, 65),\n",
       " (66, 68),\n",
       " (69, 71),\n",
       " (72, 72)]"
      ]
     },
     "execution_count": 21,
     "metadata": {},
     "output_type": "execute_result"
    }
   ],
   "source": [
    "age_bins"
   ]
  },
  {
   "cell_type": "code",
   "execution_count": 72,
   "id": "49f1b570-a22a-49d2-bd84-b211c7e72a98",
   "metadata": {},
   "outputs": [],
   "source": [
    "samples_full.to_csv(\"~/test_samples.csv\")"
   ]
  },
  {
   "cell_type": "code",
   "execution_count": 137,
   "id": "283397b0-4082-4b34-b568-06837a42e27f",
   "metadata": {},
   "outputs": [
    {
     "data": {
      "text/plain": [
       "119"
      ]
     },
     "execution_count": 137,
     "metadata": {},
     "output_type": "execute_result"
    }
   ],
   "source": [
    "len(samples_full)"
   ]
  },
  {
   "cell_type": "code",
   "execution_count": 73,
   "id": "d59a16b4-425a-49c7-b9f4-d09e3f01da84",
   "metadata": {},
   "outputs": [
    {
     "data": {
      "text/plain": [
       "['pbmc_vitality', 'pbmc_cellml']"
      ]
     },
     "execution_count": 73,
     "metadata": {},
     "output_type": "execute_result"
    }
   ],
   "source": [
    "list(filter(lambda x: \"pbmc\" in x, df_all.columns))"
   ]
  },
  {
   "cell_type": "code",
   "execution_count": null,
   "id": "36203c93-93f3-45fa-af4d-ccd767f0cd54",
   "metadata": {},
   "outputs": [],
   "source": []
  }
 ],
 "metadata": {
  "kernelspec": {
   "display_name": "Python 3 (ipykernel)",
   "language": "python",
   "name": "python3"
  },
  "language_info": {
   "codemirror_mode": {
    "name": "ipython",
    "version": 3
   },
   "file_extension": ".py",
   "mimetype": "text/x-python",
   "name": "python",
   "nbconvert_exporter": "python",
   "pygments_lexer": "ipython3",
   "version": "3.11.6"
  }
 },
 "nbformat": 4,
 "nbformat_minor": 5
}
